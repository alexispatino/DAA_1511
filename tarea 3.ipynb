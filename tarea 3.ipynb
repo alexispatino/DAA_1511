{
  "cells": [
    {
      "cell_type": "markdown",
      "metadata": {
        "id": "noptygUSw18X"
      },
      "source": [
        "# Ordenamiento por método de la burbuja"
      ]
    },
    {
      "cell_type": "code",
      "execution_count": null,
      "metadata": {
        "id": "crFHjLhJwuDE"
      },
      "outputs": [],
      "source": [
        "import time\n",
        "inicio = time.time()\n",
        "\n",
        "def burbuja( data):\n",
        "    n = len(data)\n",
        "    for iteracion in range( n ):\n",
        "        for pivote in range( n - iteracion - 1):\n",
        "            if data[pivote] > data[pivote +1]:\n",
        "                tmp = data[pivote]\n",
        "                data[pivote]=data[pivote+1]\n",
        "                data[pivote+1]=tmp\n",
        "    #print(data)\n",
        "\n",
        "import numpy as np\n",
        "original = np.random.randint(1,200000000, size=100000)\n",
        "\n",
        "burbuja( original)\n",
        "\n",
        "fin = time.time()\n",
        "print(fin-inicio)"
      ]
    },
    {
      "cell_type": "markdown",
      "metadata": {
        "id": "vprobVvfw2eO"
      },
      "source": [
        "# Stupid Sort (Bogo sort)"
      ]
    },
    {
      "cell_type": "code",
      "execution_count": null,
      "metadata": {
        "id": "RhrpcsHUw1Ms"
      },
      "outputs": [],
      "source": [
        "import time\n",
        "inicio = time.time()\n",
        "\n",
        "import random\n",
        "def bogo( data ):\n",
        "    ordenado = False\n",
        "    #print(data)\n",
        "    while not ordenado:\n",
        "        random.shuffle(data)\n",
        "        for pivote in range( len(data)-1):\n",
        "            if data[pivote] <=data[pivote+1]:\n",
        "                ordenado = True\n",
        "            else:\n",
        "                ordenado = False\n",
        "                break\n",
        "    print(\"Final\",data)\n",
        "\n",
        "\n",
        "original = [93,104,9,43,54,123,323,8945,542,911,4564,123466]\n",
        "\n",
        "#\n",
        "bogo(original)\n",
        "\n",
        "fin = time.time()\n",
        "print(fin-inicio)\n"
      ]
    }
  ],
  "metadata": {
    "colab": {
      "name": "Copia de 25AgostoDAA.ipynb",
      "provenance": []
    },
    "kernelspec": {
      "display_name": "Python 3.10.4 64-bit",
      "language": "python",
      "name": "python3"
    },
    "language_info": {
      "codemirror_mode": {
        "name": "ipython",
        "version": 3
      },
      "file_extension": ".py",
      "mimetype": "text/x-python",
      "name": "python",
      "nbconvert_exporter": "python",
      "pygments_lexer": "ipython3",
      "version": "3.10.4"
    },
    "vscode": {
      "interpreter": {
        "hash": "4fcf7c1634c252e17660286bba66a8842b3a2f638e6fef0f8a70de98d51c0af2"
      }
    }
  },
  "nbformat": 4,
  "nbformat_minor": 0
}